{
 "cells": [
  {
   "cell_type": "code",
   "execution_count": 17,
   "metadata": {},
   "outputs": [
    {
     "data": {
      "text/plain": [
       "(2184, 10)"
      ]
     },
     "execution_count": 17,
     "metadata": {},
     "output_type": "execute_result"
    }
   ],
   "source": [
    "import pandas as pd\n",
    "import numpy as np\n",
    "data=pd.read_csv(\"LoadDatainKW.csv\")\n",
    "data.head()\n",
    "data.shape\n"
   ]
  },
  {
   "cell_type": "code",
   "execution_count": 18,
   "metadata": {},
   "outputs": [
    {
     "name": "stdout",
     "output_type": "stream",
     "text": [
      "(2160,)\n",
      "(2160,)\n"
     ]
    }
   ],
   "source": [
    "day_1 = data.iloc[0:-24, 2]\n",
    "day_2 = data.iloc[24:, 2]\n",
    "print(day_1.shape)\n",
    "print(day_2.shape)"
   ]
  },
  {
   "cell_type": "code",
   "execution_count": 20,
   "metadata": {},
   "outputs": [],
   "source": [
    "\n",
    "#The index of day_2 series starts from 24, so resetting the index\n",
    "day_2 = day_2.reset_index()\n",
    "day_2 = day_2['Load (kW)']"
   ]
  },
  {
   "cell_type": "code",
   "execution_count": 21,
   "metadata": {},
   "outputs": [
    {
     "data": {
      "text/plain": [
       "(2160, 2)"
      ]
     },
     "execution_count": 21,
     "metadata": {},
     "output_type": "execute_result"
    }
   ],
   "source": [
    "df = pd.concat([day_1, day_2], axis = 1)\n",
    "df.shape"
   ]
  },
  {
   "cell_type": "code",
   "execution_count": 22,
   "metadata": {},
   "outputs": [
    {
     "data": {
      "text/plain": [
       "<bound method NDFrame.head of            Day_1       Day_2\n",
       "0     5551.82208  4931.26380\n",
       "1     4983.17184  4775.53968\n",
       "2     4888.39680  4713.81120\n",
       "3     5072.95872  4689.02628\n",
       "4     5196.25980  4844.75040\n",
       "5     5641.29720  5571.46296\n",
       "6     7153.17732  6150.71304\n",
       "7     7849.80504  6296.30496\n",
       "8     6329.97504  6515.16048\n",
       "9     6292.87560  6269.64948\n",
       "10    5349.80160  5607.00360\n",
       "11    5225.40936  5932.79280\n",
       "12    5000.47452  5675.59080\n",
       "13    4775.53968  5675.27904\n",
       "14    6177.05676  5435.53560\n",
       "15    6177.05676  5572.71000\n",
       "16    6155.70120  6023.20320\n",
       "17    6212.12976  6110.49600\n",
       "18    7424.25264  7951.75056\n",
       "19    7407.41760  8013.01140\n",
       "20    7068.22272  7591.82364\n",
       "21    6515.78400  7088.17536\n",
       "22    6350.08356  6477.12576\n",
       "23    5502.25224  5848.61760\n",
       "24    4931.26380  5460.47640\n",
       "25    4775.53968  5097.89952\n",
       "26    4713.81120  5062.98240\n",
       "27    4689.02628  5080.44096\n",
       "28    4844.75040  5324.86080\n",
       "29    5571.46296  5970.82752\n",
       "...          ...         ...\n",
       "2130  3893.10300  4068.93564\n",
       "2131  4481.39412  4643.97696\n",
       "2132  5813.70048  5813.70048\n",
       "2133  6841.57320  7115.92200\n",
       "2134  6021.33264  6189.99480\n",
       "2135  5521.26960  5657.97636\n",
       "2136  5589.85680  5138.89596\n",
       "2137  5467.64688  4965.86916\n",
       "2138  5115.35808  4783.95720\n",
       "2139  4155.13728  4663.92960\n",
       "2140  4671.72360  4080.93840\n",
       "2141  4731.26976  4355.28720\n",
       "2142  5377.23648  5024.01240\n",
       "2143  7076.79612  5761.32480\n",
       "2144  7007.58540  6447.19680\n",
       "2145  6921.07200  6207.14160\n",
       "2146  6285.08160  5658.44400\n",
       "2147  5900.99328  4166.67240\n",
       "2148  4262.69448  5744.48976\n",
       "2149  3945.63456  5415.73884\n",
       "2150  3891.70008  5949.93960\n",
       "2151  3713.99688  5658.44400\n",
       "2152  3731.76720  5315.50800\n",
       "2153  3892.79124  5294.62008\n",
       "2154  4068.93564  5045.52384\n",
       "2155  4643.97696  4626.51840\n",
       "2156  5813.70048  4567.90752\n",
       "2157  7115.92200  4723.63164\n",
       "2158  6189.99480  5150.27520\n",
       "2159  5657.97636  6938.37468\n",
       "\n",
       "[2160 rows x 2 columns]>"
      ]
     },
     "execution_count": 22,
     "metadata": {},
     "output_type": "execute_result"
    }
   ],
   "source": [
    "df.columns = ['Day_1', 'Day_2']\n",
    "df.head"
   ]
  },
  {
   "cell_type": "code",
   "execution_count": 23,
   "metadata": {},
   "outputs": [
    {
     "data": {
      "text/html": [
       "<div>\n",
       "<style scoped>\n",
       "    .dataframe tbody tr th:only-of-type {\n",
       "        vertical-align: middle;\n",
       "    }\n",
       "\n",
       "    .dataframe tbody tr th {\n",
       "        vertical-align: top;\n",
       "    }\n",
       "\n",
       "    .dataframe thead th {\n",
       "        text-align: right;\n",
       "    }\n",
       "</style>\n",
       "<table border=\"1\" class=\"dataframe\">\n",
       "  <thead>\n",
       "    <tr style=\"text-align: right;\">\n",
       "      <th></th>\n",
       "      <th>Day_1</th>\n",
       "      <th>Day_2</th>\n",
       "    </tr>\n",
       "  </thead>\n",
       "  <tbody>\n",
       "    <tr>\n",
       "      <th>0</th>\n",
       "      <td>-0.454862</td>\n",
       "      <td>-1.026890</td>\n",
       "    </tr>\n",
       "    <tr>\n",
       "      <th>1</th>\n",
       "      <td>-0.988072</td>\n",
       "      <td>-1.172657</td>\n",
       "    </tr>\n",
       "    <tr>\n",
       "      <th>2</th>\n",
       "      <td>-1.076940</td>\n",
       "      <td>-1.230438</td>\n",
       "    </tr>\n",
       "    <tr>\n",
       "      <th>3</th>\n",
       "      <td>-0.903881</td>\n",
       "      <td>-1.253638</td>\n",
       "    </tr>\n",
       "    <tr>\n",
       "      <th>4</th>\n",
       "      <td>-0.788264</td>\n",
       "      <td>-1.107871</td>\n",
       "    </tr>\n",
       "  </tbody>\n",
       "</table>\n",
       "</div>"
      ],
      "text/plain": [
       "      Day_1     Day_2\n",
       "0 -0.454862 -1.026890\n",
       "1 -0.988072 -1.172657\n",
       "2 -1.076940 -1.230438\n",
       "3 -0.903881 -1.253638\n",
       "4 -0.788264 -1.107871"
      ]
     },
     "execution_count": 23,
     "metadata": {},
     "output_type": "execute_result"
    }
   ],
   "source": [
    "normalized_df = (df-df.mean())/df.std()\n",
    "normalized_df.head()"
   ]
  },
  {
   "cell_type": "code",
   "execution_count": 24,
   "metadata": {},
   "outputs": [],
   "source": [
    "from sklearn.model_selection import train_test_split\n",
    "x_train, x_test, y_train, y_test = train_test_split(normalized_df.Day_1, normalized_df.Day_2, test_size = 0.10, random_state = 42)"
   ]
  },
  {
   "cell_type": "code",
   "execution_count": 25,
   "metadata": {},
   "outputs": [
    {
     "name": "stdout",
     "output_type": "stream",
     "text": [
      "Iteration: 1\tValue of m: 0.8885266666378754, \tValue of c: -0.015125603603097632\n",
      "Iteration: 2\tValue of m: 0.8885266666378754, \tValue of c: -0.015125603603097632\n",
      "Iteration: 3\tValue of m: 0.8885266666378754, \tValue of c: -0.015125603603097632\n",
      "Iteration: 4\tValue of m: 0.8885266666378754, \tValue of c: -0.015125603603097632\n",
      "Iteration: 5\tValue of m: 0.8885266666378754, \tValue of c: -0.015125603603097632\n",
      "Iteration: 6\tValue of m: 0.8885266666378754, \tValue of c: -0.015125603603097632\n",
      "Iteration: 7\tValue of m: 0.8885266666378754, \tValue of c: -0.015125603603097632\n",
      "Iteration: 8\tValue of m: 0.8885266666378754, \tValue of c: -0.015125603603097632\n",
      "Iteration: 9\tValue of m: 0.8885266666378754, \tValue of c: -0.015125603603097632\n",
      "Iteration: 10\tValue of m: 0.8885266666378754, \tValue of c: -0.015125603603097632\n",
      "Iteration: 11\tValue of m: 0.8885266666378754, \tValue of c: -0.015125603603097632\n",
      "Iteration: 12\tValue of m: 0.8885266666378754, \tValue of c: -0.015125603603097632\n",
      "Iteration: 13\tValue of m: 0.8885266666378754, \tValue of c: -0.015125603603097632\n",
      "Iteration: 14\tValue of m: 0.8885266666378754, \tValue of c: -0.015125603603097632\n",
      "Iteration: 15\tValue of m: 0.8885266666378754, \tValue of c: -0.015125603603097632\n",
      "Iteration: 16\tValue of m: 0.8885266666378754, \tValue of c: -0.015125603603097632\n",
      "Iteration: 17\tValue of m: 0.8885266666378754, \tValue of c: -0.015125603603097632\n",
      "Iteration: 18\tValue of m: 0.8885266666378754, \tValue of c: -0.015125603603097632\n",
      "Iteration: 19\tValue of m: 0.8885266666378754, \tValue of c: -0.015125603603097632\n",
      "Iteration: 20\tValue of m: 0.8885266666378754, \tValue of c: -0.015125603603097632\n",
      "Iteration: 21\tValue of m: 0.8885266666378754, \tValue of c: -0.015125603603097632\n",
      "Iteration: 22\tValue of m: 0.8885266666378754, \tValue of c: -0.015125603603097632\n",
      "Iteration: 23\tValue of m: 0.8885266666378754, \tValue of c: -0.015125603603097632\n",
      "Iteration: 24\tValue of m: 0.8885266666378754, \tValue of c: -0.015125603603097632\n",
      "Iteration: 25\tValue of m: 0.8885266666378754, \tValue of c: -0.015125603603097632\n",
      "Iteration: 26\tValue of m: 0.8885266666378754, \tValue of c: -0.015125603603097632\n",
      "Iteration: 27\tValue of m: 0.8885266666378754, \tValue of c: -0.015125603603097632\n",
      "Iteration: 28\tValue of m: 0.8885266666378754, \tValue of c: -0.015125603603097632\n",
      "Iteration: 29\tValue of m: 0.8885266666378754, \tValue of c: -0.015125603603097632\n",
      "Iteration: 30\tValue of m: 0.8885266666378754, \tValue of c: -0.015125603603097632\n",
      "Iteration: 31\tValue of m: 0.8885266666378754, \tValue of c: -0.015125603603097632\n",
      "Iteration: 32\tValue of m: 0.8885266666378754, \tValue of c: -0.015125603603097632\n",
      "Iteration: 33\tValue of m: 0.8885266666378754, \tValue of c: -0.015125603603097632\n",
      "Iteration: 34\tValue of m: 0.8885266666378754, \tValue of c: -0.015125603603097632\n",
      "Iteration: 35\tValue of m: 0.8885266666378754, \tValue of c: -0.015125603603097632\n",
      "Iteration: 36\tValue of m: 0.8885266666378754, \tValue of c: -0.015125603603097632\n",
      "Iteration: 37\tValue of m: 0.8885266666378754, \tValue of c: -0.015125603603097632\n",
      "Iteration: 38\tValue of m: 0.8885266666378754, \tValue of c: -0.015125603603097632\n",
      "Iteration: 39\tValue of m: 0.8885266666378754, \tValue of c: -0.015125603603097632\n",
      "Iteration: 40\tValue of m: 0.8885266666378754, \tValue of c: -0.015125603603097632\n",
      "Iteration: 41\tValue of m: 0.8885266666378754, \tValue of c: -0.015125603603097632\n",
      "Iteration: 42\tValue of m: 0.8885266666378754, \tValue of c: -0.015125603603097632\n",
      "Iteration: 43\tValue of m: 0.8885266666378754, \tValue of c: -0.015125603603097632\n",
      "Iteration: 44\tValue of m: 0.8885266666378754, \tValue of c: -0.015125603603097632\n",
      "Iteration: 45\tValue of m: 0.8885266666378754, \tValue of c: -0.015125603603097632\n",
      "Iteration: 46\tValue of m: 0.8885266666378754, \tValue of c: -0.015125603603097632\n",
      "Iteration: 47\tValue of m: 0.8885266666378754, \tValue of c: -0.015125603603097632\n",
      "Iteration: 48\tValue of m: 0.8885266666378754, \tValue of c: -0.015125603603097632\n",
      "Iteration: 49\tValue of m: 0.8885266666378754, \tValue of c: -0.015125603603097632\n",
      "Iteration: 50\tValue of m: 0.8885266666378754, \tValue of c: -0.015125603603097632\n",
      "Iteration: 51\tValue of m: 0.8885266666378754, \tValue of c: -0.015125603603097632\n",
      "Iteration: 52\tValue of m: 0.8885266666378754, \tValue of c: -0.015125603603097632\n",
      "Iteration: 53\tValue of m: 0.8885266666378754, \tValue of c: -0.015125603603097632\n",
      "Iteration: 54\tValue of m: 0.8885266666378754, \tValue of c: -0.015125603603097632\n",
      "Iteration: 55\tValue of m: 0.8885266666378754, \tValue of c: -0.015125603603097632\n",
      "Iteration: 56\tValue of m: 0.8885266666378754, \tValue of c: -0.015125603603097632\n",
      "Iteration: 57\tValue of m: 0.8885266666378754, \tValue of c: -0.015125603603097632\n",
      "Iteration: 58\tValue of m: 0.8885266666378754, \tValue of c: -0.015125603603097632\n",
      "Iteration: 59\tValue of m: 0.8885266666378754, \tValue of c: -0.015125603603097632\n",
      "Iteration: 60\tValue of m: 0.8885266666378754, \tValue of c: -0.015125603603097632\n",
      "Iteration: 61\tValue of m: 0.8885266666378754, \tValue of c: -0.015125603603097632\n",
      "Iteration: 62\tValue of m: 0.8885266666378754, \tValue of c: -0.015125603603097632\n",
      "Iteration: 63\tValue of m: 0.8885266666378754, \tValue of c: -0.015125603603097632\n",
      "Iteration: 64\tValue of m: 0.8885266666378754, \tValue of c: -0.015125603603097632\n",
      "Iteration: 65\tValue of m: 0.8885266666378754, \tValue of c: -0.015125603603097632\n",
      "Iteration: 66\tValue of m: 0.8885266666378754, \tValue of c: -0.015125603603097632\n",
      "Iteration: 67\tValue of m: 0.8885266666378754, \tValue of c: -0.015125603603097632\n",
      "Iteration: 68\tValue of m: 0.8885266666378754, \tValue of c: -0.015125603603097632\n",
      "Iteration: 69\tValue of m: 0.8885266666378754, \tValue of c: -0.015125603603097632\n",
      "Iteration: 70\tValue of m: 0.8885266666378754, \tValue of c: -0.015125603603097632\n",
      "Iteration: 71\tValue of m: 0.8885266666378754, \tValue of c: -0.015125603603097632\n",
      "Iteration: 72\tValue of m: 0.8885266666378754, \tValue of c: -0.015125603603097632\n",
      "Iteration: 73\tValue of m: 0.8885266666378754, \tValue of c: -0.015125603603097632\n",
      "Iteration: 74\tValue of m: 0.8885266666378754, \tValue of c: -0.015125603603097632\n",
      "Iteration: 75\tValue of m: 0.8885266666378754, \tValue of c: -0.015125603603097632\n",
      "Iteration: 76\tValue of m: 0.8885266666378754, \tValue of c: -0.015125603603097632\n",
      "Iteration: 77\tValue of m: 0.8885266666378754, \tValue of c: -0.015125603603097632\n",
      "Iteration: 78\tValue of m: 0.8885266666378754, \tValue of c: -0.015125603603097632\n",
      "Iteration: 79\tValue of m: 0.8885266666378754, \tValue of c: -0.015125603603097632\n",
      "Iteration: 80\tValue of m: 0.8885266666378754, \tValue of c: -0.015125603603097632\n",
      "Iteration: 81\tValue of m: 0.8885266666378754, \tValue of c: -0.015125603603097632\n",
      "Iteration: 82\tValue of m: 0.8885266666378754, \tValue of c: -0.015125603603097632\n",
      "Iteration: 83\tValue of m: 0.8885266666378754, \tValue of c: -0.015125603603097632\n",
      "Iteration: 84\tValue of m: 0.8885266666378754, \tValue of c: -0.015125603603097632\n",
      "Iteration: 85\tValue of m: 0.8885266666378754, \tValue of c: -0.015125603603097632\n",
      "Iteration: 86\tValue of m: 0.8885266666378754, \tValue of c: -0.015125603603097632\n",
      "Iteration: 87\tValue of m: 0.8885266666378754, \tValue of c: -0.015125603603097632\n",
      "Iteration: 88\tValue of m: 0.8885266666378754, \tValue of c: -0.015125603603097632\n",
      "Iteration: 89\tValue of m: 0.8885266666378754, \tValue of c: -0.015125603603097632\n",
      "Iteration: 90\tValue of m: 0.8885266666378754, \tValue of c: -0.015125603603097632\n",
      "Iteration: 91\tValue of m: 0.8885266666378754, \tValue of c: -0.015125603603097632\n",
      "Iteration: 92\tValue of m: 0.8885266666378754, \tValue of c: -0.015125603603097632\n",
      "Iteration: 93\tValue of m: 0.8885266666378754, \tValue of c: -0.015125603603097632\n",
      "Iteration: 94\tValue of m: 0.8885266666378754, \tValue of c: -0.015125603603097632\n",
      "Iteration: 95\tValue of m: 0.8885266666378754, \tValue of c: -0.015125603603097632\n",
      "Iteration: 96\tValue of m: 0.8885266666378754, \tValue of c: -0.015125603603097632\n",
      "Iteration: 97\tValue of m: 0.8885266666378754, \tValue of c: -0.015125603603097632\n",
      "Iteration: 98\tValue of m: 0.8885266666378754, \tValue of c: -0.015125603603097632\n",
      "Iteration: 99\tValue of m: 0.8885266666378754, \tValue of c: -0.015125603603097632\n",
      "Iteration: 100\tValue of m: 0.8885266666378754, \tValue of c: -0.015125603603097632\n"
     ]
    }
   ],
   "source": [
    "m = 1 #Initial value of slope\n",
    "c = -1 #Initial value of intercept\n",
    "lr = 0.01 #Learning Rate\n",
    "delta_m = 1 #Initialising Δm\n",
    "delta_c = 1 #Initialising Δc\n",
    "v_m = 0\n",
    "v_c = 0\n",
    "lam = 0.9\n",
    "max_iters = 100 #Maximum number of iterations  \n",
    "iters_count = 0 #Counting Iterations\n",
    "\n",
    "\n",
    "def deriv(m_f, c_f, x, y):\n",
    "  m_deriv = -1*(y-m_f*x-c_f)*x\n",
    "  c_deriv = -1*(y-m_f*x-c_f)\n",
    "  return m_deriv, c_deriv  \n",
    "\n",
    "\n",
    "while iters_count < max_iters:\n",
    "  for i in range(x_train.shape[0]):\n",
    "    delta_m, delta_c = deriv(m, c, x_train.iloc[i], y_train.iloc[i])\n",
    "    v_m = lam * v_m - lr * delta_m\n",
    "    v_c = lam * v_c - lr * delta_c\n",
    "    m += v_m\n",
    "    c += v_c\n",
    "  iters_count += 1\n",
    "  print(f\"Iteration: {iters_count}\\tValue of m: {m}, \\tValue of c: {c}\")"
   ]
  },
  {
   "cell_type": "code",
   "execution_count": 26,
   "metadata": {},
   "outputs": [
    {
     "name": "stdout",
     "output_type": "stream",
     "text": [
      "\n",
      "The local minima occurs at: 0.8885266666378754, -0.015125603603097632\n"
     ]
    }
   ],
   "source": [
    "print(f\"\\nThe local minima occurs at: {m}, {c}\")"
   ]
  },
  {
   "cell_type": "code",
   "execution_count": 27,
   "metadata": {},
   "outputs": [],
   "source": [
    "import numpy as np\n",
    "\n",
    "x_train = np.array(x_train)\n",
    "y_train = np.array(y_train)\n",
    "x_test = np.array(x_test)\n",
    "y_test = np.array(y_test)"
   ]
  },
  {
   "cell_type": "code",
   "execution_count": 28,
   "metadata": {},
   "outputs": [],
   "source": [
    "y_pred_train = []\n",
    "for i in x_train:\n",
    "  y_p_tr = (m * i) + c\n",
    "  y_pred_train.append(y_p_tr)\n",
    "y_pred_train = np.array(y_pred_train)"
   ]
  },
  {
   "cell_type": "code",
   "execution_count": 29,
   "metadata": {},
   "outputs": [],
   "source": [
    "y_pred_test = []\n",
    "for i in x_test:\n",
    "  y_p_te = (m * i) + c\n",
    "  y_pred_test.append(y_p_te)\n",
    "y_pred_test = np.array(y_pred_test)"
   ]
  },
  {
   "cell_type": "code",
   "execution_count": 30,
   "metadata": {},
   "outputs": [
    {
     "name": "stdout",
     "output_type": "stream",
     "text": [
      "Root mean square error 0.6888134336509062\n",
      "Mean square error 0.4744639463779513\n",
      "Mean absolute error 0.4922787663231915\n"
     ]
    }
   ],
   "source": [
    "import math\n",
    "from sklearn.metrics import mean_squared_error \n",
    "from sklearn.metrics import mean_absolute_error\n",
    "\n",
    "\n",
    "#Training Accuracies\n",
    "mse = math.sqrt(mean_squared_error(y_train, y_pred_train)) \n",
    "print('Root mean square error', mse) \n",
    "mse = (mean_squared_error(y_train, y_pred_train)) \n",
    "print('Mean square error', mse) \n",
    "mae=mean_absolute_error(y_train, y_pred_train)\n",
    "print('Mean absolute error', mae)"
   ]
  },
  {
   "cell_type": "code",
   "execution_count": 31,
   "metadata": {},
   "outputs": [
    {
     "name": "stdout",
     "output_type": "stream",
     "text": [
      "Root mean square error 0.6650642307346853\n",
      "Mean square error 0.4423104310027188\n",
      "Mean absolute error 0.48048030390084917\n"
     ]
    }
   ],
   "source": [
    "#Testing Accuracies\n",
    "mse = math.sqrt(mean_squared_error(y_test, y_pred_test)) \n",
    "print('Root mean square error', mse) \n",
    "mse = (mean_squared_error(y_test, y_pred_test)) \n",
    "print('Mean square error', mse) \n",
    "mae=mean_absolute_error(y_test, y_pred_test)\n",
    "print('Mean absolute error', mae)"
   ]
  },
  {
   "cell_type": "code",
   "execution_count": 32,
   "metadata": {},
   "outputs": [
    {
     "name": "stdout",
     "output_type": "stream",
     "text": [
      "Enter an hour(0-23) of 1st December, 2018 to predict the load6\n",
      "Predicted Load (kW) at 6 hours on 1st December, 2018: 5783.981883230798\n"
     ]
    }
   ],
   "source": [
    "hour = input(\"Enter an hour(0-23) of 1st December, 2018 to predict the load\")\n",
    "index = 2137 + int(hour)\n",
    "x = normalized_df.iloc[index, 1]\n",
    "normalised_output = m * x + c\n",
    "output = (normalised_output * df.std()) + df.mean()\n",
    "print(f\"Predicted Load (kW) at {hour} hours on 1st December, 2018: {output[0]}\")"
   ]
  },
  {
   "cell_type": "code",
   "execution_count": null,
   "metadata": {},
   "outputs": [],
   "source": []
  }
 ],
 "metadata": {
  "kernelspec": {
   "display_name": "Python 3",
   "language": "python",
   "name": "python3"
  },
  "language_info": {
   "codemirror_mode": {
    "name": "ipython",
    "version": 3
   },
   "file_extension": ".py",
   "mimetype": "text/x-python",
   "name": "python",
   "nbconvert_exporter": "python",
   "pygments_lexer": "ipython3",
   "version": "3.7.1"
  }
 },
 "nbformat": 4,
 "nbformat_minor": 2
}
