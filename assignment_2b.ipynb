{
 "cells": [
  {
   "cell_type": "markdown",
   "metadata": {},
   "source": [
    "-->Find the global minimum point and value for the function f(x) = x^4 + 3x^2+10?\n",
    "\n",
    "-->find the optimal solution using python programming?"
   ]
  },
  {
   "cell_type": "code",
   "execution_count": 4,
   "metadata": {},
   "outputs": [
    {
     "name": "stdout",
     "output_type": "stream",
     "text": [
      "1 Iterations \n",
      " x value is -37.6\n",
      "2 Iterations \n",
      " x value is 191531.99360000005\n",
      "3 Iterations \n",
      " x value is -2.529452266276448e+16\n",
      "4 Iterations \n",
      " x value is 5.826154071799894e+49\n",
      "5 Iterations \n",
      " x value is -7.119482005208375e+149\n",
      "6 Iterations \n",
      " x value is inf\n",
      "7 Iterations \n",
      " x value is nan\n",
      "8 Iterations \n",
      " x value is nan\n",
      "The local minimum occurs at nan\n"
     ]
    }
   ],
   "source": [
    "x_o = 2\n",
    "eta = 0.9\n",
    "eps = 0.000001\n",
    "del_x = 1\n",
    "max_iterations = 10000\n",
    "iterations = 0\n",
    "def deriv(x):\n",
    "    x_derivation = 4*(x)*(x)*(x) + 6*(x)\n",
    "    return x_derivation\n",
    "while abs(del_x) > eps and iterations < max_iterations:\n",
    "    prev_x = x_o\n",
    "    del_x=-eta*deriv(prev_x)\n",
    "    x_o = x_o + del_x\n",
    "    iterations = iterations+1\n",
    "    print(iterations,\"Iterations\",\"\\n x value is\",x_o)\n",
    "print(\"The local minimum occurs at\",x_o)"
   ]
  },
  {
   "cell_type": "code",
   "execution_count": null,
   "metadata": {},
   "outputs": [],
   "source": []
  }
 ],
 "metadata": {
  "kernelspec": {
   "display_name": "Python 3",
   "language": "python",
   "name": "python3"
  },
  "language_info": {
   "codemirror_mode": {
    "name": "ipython",
    "version": 3
   },
   "file_extension": ".py",
   "mimetype": "text/x-python",
   "name": "python",
   "nbconvert_exporter": "python",
   "pygments_lexer": "ipython3",
   "version": "3.7.1"
  }
 },
 "nbformat": 4,
 "nbformat_minor": 2
}
