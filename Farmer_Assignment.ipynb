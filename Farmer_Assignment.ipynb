Let, x=Wheat y=barley hectares~hec Objective function: MAX=50x+120y Constraints: Cost/hec=7000x+2000y<=700000 man-days/hec=10x+30y<=1200 hec piece of land=x+y<=110

Boundaries: x,y>=0

from scipy.optimize import linprog
objec=[-50,-120]
lhs_ceq = [[7000,2000],[10,30],[1,1]]
rhs_ceq = [700000,1200,110]
bounder=[(0,float('inf')),(0,float('inf'))]
optimize = linprog(c=objec,A_ub=lhs_ceq,b_ub=rhs_ceq,bounds=bounder,method="simplex")
optimize


fun: -5778.9473684210525
 message: 'Optimization terminated successfully.'
     nit: 2
   slack: array([0.        , 0.        , 4.73684211])
  status: 0
 success: True
       x: array([97.89473684,  7.36842105])
