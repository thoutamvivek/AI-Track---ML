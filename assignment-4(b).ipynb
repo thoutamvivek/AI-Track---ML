{
 "cells": [
  {
   "cell_type": "code",
   "execution_count": 27,
   "metadata": {},
   "outputs": [],
   "source": [
    "import pandas as pd\n",
    "import numpy as np\n",
    "data=pd.read_csv('dataset.csv')"
   ]
  },
  {
   "cell_type": "code",
   "execution_count": 28,
   "metadata": {},
   "outputs": [
    {
     "data": {
      "text/plain": [
       "X    0.351972\n",
       "Y   -0.167721\n",
       "dtype: float64"
      ]
     },
     "execution_count": 28,
     "metadata": {},
     "output_type": "execute_result"
    }
   ],
   "source": [
    "data.skew()"
   ]
  },
  {
   "cell_type": "code",
   "execution_count": 29,
   "metadata": {},
   "outputs": [
    {
     "data": {
      "text/plain": [
       "0.07166044117329835"
      ]
     },
     "execution_count": 29,
     "metadata": {},
     "output_type": "execute_result"
    }
   ],
   "source": [
    "log_X=np.log(np.log(np.log(data['X'])))\n",
    "log_X.skew()"
   ]
  },
  {
   "cell_type": "code",
   "execution_count": 30,
   "metadata": {},
   "outputs": [
    {
     "name": "stdout",
     "output_type": "stream",
     "text": [
      "      X    Y\n",
      "0   7.6  157\n",
      "1   7.1  174\n",
      "2   8.2  175\n",
      "3   7.5  188\n",
      "4   7.4  171\n",
      "5   7.8  143\n",
      "6   7.3  217\n",
      "7   8.0  190\n",
      "8   7.1  142\n",
      "9   7.5  190\n",
      "10  8.1  215\n",
      "11  7.0  199\n",
      "12  7.3  262\n",
      "13  7.8  105\n",
      "14  7.3  121\n",
      "15  8.0   81\n",
      "16  8.5   82\n",
      "17  7.1  210\n",
      "18  8.2  202\n",
      "19  7.9  155\n",
      "20  7.6  157\n",
      "21  8.8  147\n",
      "22  7.2  133\n",
      "23  7.9   53\n",
      "24  8.1   56\n",
      "25  7.7  113\n",
      "26  8.4   35\n",
      "27  7.4  125\n",
      "28  7.3   76\n",
      "29  8.5   48\n",
      "30  7.8  147\n",
      "31  6.7  117\n",
      "32  7.1  182\n",
      "33  7.3   87\n"
     ]
    }
   ],
   "source": [
    "print(data)"
   ]
  },
  {
   "cell_type": "code",
   "execution_count": 31,
   "metadata": {},
   "outputs": [],
   "source": [
    "x_train=data.iloc[0:30,0]\n",
    "y_train=data.iloc[0:30,0]\n",
    "x_test=data.iloc[30:34,1]\n",
    "y_test=data.iloc[30:35,1]"
   ]
  },
  {
   "cell_type": "code",
   "execution_count": 32,
   "metadata": {},
   "outputs": [],
   "source": [
    "x_train=x_train.iloc[1:].values\n",
    "x_train=x_train.reshape(len(x_train),1)\n",
    "y_train=y_train.iloc[1:].values\n",
    "y_train=y_train.reshape(len(y_train),1)\n",
    "x_test=x_test.iloc[1:].values\n",
    "x_test=x_test.reshape(len(x_test),1)\n",
    "y_test=y_test.iloc[1:].values\n",
    "y_test=y_test.reshape(len(y_test),1)"
   ]
  },
  {
   "cell_type": "code",
   "execution_count": 33,
   "metadata": {},
   "outputs": [],
   "source": [
    "\n",
    "def slr_sgd(x,y,epochs):\n",
    "    length=len(x)\n",
    "    i=0\n",
    "    j=0\n",
    "    m=[1]*(length)\n",
    "    c=[1]*(length)\n",
    "    a1=[]\n",
    "    a2=[]\n",
    "    y_pre=[]\n",
    "    while(j<epochs):\n",
    "        while(i<length):\n",
    "            k=(y[i]-(m[i]*x[i])-c[i])\n",
    "            dm=-0.01*(k*x[i])\n",
    "            dc=-0.01*k\n",
    "            m[i]=m[i]+dm\n",
    "            c[i]=c[i]+dc\n",
    "            a1.append(m[i])\n",
    "            a2.append(c[i])\n",
    "            i=i+1\n",
    "        j=j+1\n",
    "    return a1,a2"
   ]
  },
  {
   "cell_type": "code",
   "execution_count": 34,
   "metadata": {},
   "outputs": [
    {
     "name": "stdout",
     "output_type": "stream",
     "text": [
      "[array([1.071]), array([1.082]), array([1.075]), array([1.074]), array([1.078]), array([1.073]), array([1.08]), array([1.071]), array([1.075]), array([1.081]), array([1.07]), array([1.073]), array([1.078]), array([1.073]), array([1.08]), array([1.085]), array([1.071]), array([1.082]), array([1.079]), array([1.076]), array([1.088]), array([1.072]), array([1.079]), array([1.081]), array([1.077]), array([1.084]), array([1.074]), array([1.073]), array([1.085])]\n",
      "[array([1.01]), array([1.01]), array([1.01]), array([1.01]), array([1.01]), array([1.01]), array([1.01]), array([1.01]), array([1.01]), array([1.01]), array([1.01]), array([1.01]), array([1.01]), array([1.01]), array([1.01]), array([1.01]), array([1.01]), array([1.01]), array([1.01]), array([1.01]), array([1.01]), array([1.01]), array([1.01]), array([1.01]), array([1.01]), array([1.01]), array([1.01]), array([1.01]), array([1.01])]\n"
     ]
    }
   ],
   "source": [
    "m,c=slr_sgd(x_train,y_train,2)\n",
    "print(m)\n",
    "print(c)"
   ]
  },
  {
   "cell_type": "code",
   "execution_count": 35,
   "metadata": {},
   "outputs": [],
   "source": [
    "i=0\n",
    "y_pred=[]\n",
    "while i<29:\n",
    "    y_predict=(m[i]*x_train[i])-c[i]\n",
    "    y_pred.append(y_predict)\n",
    "    i=i+1"
   ]
  },
  {
   "cell_type": "code",
   "execution_count": 36,
   "metadata": {},
   "outputs": [
    {
     "name": "stdout",
     "output_type": "stream",
     "text": [
      "[array([6.5941]), array([7.8624]), array([7.0525]), array([6.9376]), array([7.3984]), array([6.8229]), array([7.63]), array([6.5941]), array([7.0525]), array([7.7461]), array([6.48]), array([6.8229]), array([7.3984]), array([6.8229]), array([7.63]), array([8.2125]), array([6.5941]), array([7.8624]), array([7.5141]), array([7.1676]), array([8.5644]), array([6.7084]), array([7.5141]), array([7.7461]), array([7.2829]), array([8.0956]), array([6.9376]), array([6.8229]), array([8.2125])]\n"
     ]
    }
   ],
   "source": [
    "print(y_pred)"
   ]
  },
  {
   "cell_type": "code",
   "execution_count": 37,
   "metadata": {},
   "outputs": [],
   "source": [
    "import math\n",
    "from sklearn.metrics import mean_squared_error \n",
    "from sklearn.metrics import mean_absolute_error\n"
   ]
  },
  {
   "cell_type": "code",
   "execution_count": 38,
   "metadata": {},
   "outputs": [],
   "source": [
    "def accuracy_op(y_train,y_pred):\n",
    "    mse = math.sqrt(mean_squared_error(y_train,y_pred)) \n",
    "    print('Root mean square error', mse) \n",
    "    mse = (mean_squared_error(y_train,y_pred)) \n",
    "    print('Mean square error', mse) \n",
    "    mae=mean_absolute_error(y_train, y_pred)\n",
    "    print('Mean absolute error', mae)"
   ]
  },
  {
   "cell_type": "code",
   "execution_count": 39,
   "metadata": {},
   "outputs": [
    {
     "name": "stdout",
     "output_type": "stream",
     "text": [
      "Root mean square error 0.417941371899011\n",
      "Mean square error 0.1746749903448274\n",
      "Mean absolute error 0.4110344827586204\n",
      "None\n"
     ]
    }
   ],
   "source": [
    "print(accuracy_op(y_train,y_pred))"
   ]
  },
  {
   "cell_type": "code",
   "execution_count": 40,
   "metadata": {},
   "outputs": [
    {
     "name": "stdout",
     "output_type": "stream",
     "text": [
      "[array([2.17]), array([2.82]), array([1.87])] [array([1.01]), array([1.01]), array([1.01])]\n"
     ]
    }
   ],
   "source": [
    "m1,c1=slr_sgd(x_test,y_test,2)\n",
    "print(m1,c1)"
   ]
  },
  {
   "cell_type": "code",
   "execution_count": 41,
   "metadata": {},
   "outputs": [],
   "source": [
    "i=0\n",
    "yt_pred=[]\n",
    "while i<3:\n",
    "    yt_predict=(m1[i]*x_test[i])-c1[i]\n",
    "    yt_pred.append(yt_predict)\n",
    "    i=i+1"
   ]
  },
  {
   "cell_type": "code",
   "execution_count": 42,
   "metadata": {},
   "outputs": [
    {
     "name": "stdout",
     "output_type": "stream",
     "text": [
      "[array([252.88]), array([512.23]), array([161.68])]\n"
     ]
    }
   ],
   "source": [
    "print(yt_pred)"
   ]
  },
  {
   "cell_type": "code",
   "execution_count": 43,
   "metadata": {},
   "outputs": [
    {
     "name": "stdout",
     "output_type": "stream",
     "text": [
      "Root mean square error 210.62789440147762\n",
      "Mean square error 44364.1099\n",
      "Mean absolute error 180.26333333333332\n",
      "None\n"
     ]
    }
   ],
   "source": [
    "print(accuracy_op(y_test,yt_pred))"
   ]
  },
  {
   "cell_type": "code",
   "execution_count": null,
   "metadata": {},
   "outputs": [],
   "source": []
  }
 ],
 "metadata": {
  "kernelspec": {
   "display_name": "Python 3",
   "language": "python",
   "name": "python3"
  },
  "language_info": {
   "codemirror_mode": {
    "name": "ipython",
    "version": 3
   },
   "file_extension": ".py",
   "mimetype": "text/x-python",
   "name": "python",
   "nbconvert_exporter": "python",
   "pygments_lexer": "ipython3",
   "version": "3.7.1"
  }
 },
 "nbformat": 4,
 "nbformat_minor": 2
}
